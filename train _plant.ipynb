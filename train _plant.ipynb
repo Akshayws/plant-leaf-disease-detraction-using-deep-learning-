{
 "cells": [
  {
   "cell_type": "code",
   "execution_count": 2,
   "id": "fd242102-e1a8-4a32-a998-e0156a8c1768",
   "metadata": {},
   "outputs": [],
   "source": [
    "import numpy as np\n",
    "import tensorflow as tf\n",
    "from keras.preprocessing.image import ImageDataGenerator\n",
    "import matplotlib.pyplot as plt"
   ]
  },
  {
   "cell_type": "markdown",
   "id": "7817fafb-becd-4c3b-b83d-9fb6e70d0166",
   "metadata": {},
   "source": [
    "## Data preprocessing\n",
    "## Training image Preprocesing"
   ]
  },
  {
   "cell_type": "code",
   "execution_count": 3,
   "id": "9ac2e8c6-5c83-40f4-8ab0-d87416be7306",
   "metadata": {},
   "outputs": [
    {
     "name": "stdout",
     "output_type": "stream",
     "text": [
      "Found 328 files belonging to 10 classes.\n"
     ]
    }
   ],
   "source": [
    "training_set = tf.keras.utils.image_dataset_from_directory(\n",
    "    'plantvillage',\n",
    "    labels=\"inferred\",\n",
    "    label_mode=\"categorical\",\n",
    "    class_names=None,\n",
    "    color_mode=\"rgb\",\n",
    "    batch_size=32,\n",
    "    image_size=(256, 256),\n",
    "    shuffle=True,##at the time of feeding to modle for traing shuffle the dataset and it get random image\n",
    "    seed=None,\n",
    "    validation_split=None,\n",
    "    subset=None,\n",
    "    interpolation=\"bilinear\",\n",
    "    follow_links=False,\n",
    "    crop_to_aspect_ratio=False\n",
    ")\n",
    "\n"
   ]
  },
  {
   "cell_type": "markdown",
   "id": "67c5697f-73fe-4d86-aac6-a7d903c5c613",
   "metadata": {},
   "source": [
    "# Validation Image prep[rocessing"
   ]
  },
  {
   "cell_type": "code",
   "execution_count": 4,
   "id": "51f2a70c-2075-421a-a553-1aa243a46556",
   "metadata": {},
   "outputs": [
    {
     "name": "stdout",
     "output_type": "stream",
     "text": [
      "Found 328 files belonging to 10 classes.\n"
     ]
    }
   ],
   "source": [
    "validation_set = tf.keras.utils.image_dataset_from_directory(\n",
    "    'plantvillage',\n",
    "    labels=\"inferred\",\n",
    "    label_mode=\"categorical\",\n",
    "        class_names=None,\n",
    "    color_mode=\"rgb\",\n",
    "    batch_size=32,\n",
    "    image_size=(256,256),\n",
    "    shuffle=True,##at the time of feeding to modle for traing shuffle the dataset and it get random image\n",
    "    seed=None,\n",
    "    validation_split=None,\n",
    "    subset=None,\n",
    "    interpolation=\"bilinear\",\n",
    "    follow_links=False,\n",
    "    crop_to_aspect_ratio=False\n",
    ")\n",
    "\n"
   ]
  },
  {
   "cell_type": "code",
   "execution_count": 5,
   "id": "f9e0bbbf-155d-4c88-8ff4-36612e973de9",
   "metadata": {},
   "outputs": [
    {
     "data": {
      "text/plain": [
       "<_PrefetchDataset element_spec=(TensorSpec(shape=(None, 256, 256, 3), dtype=tf.float32, name=None), TensorSpec(shape=(None, 10), dtype=tf.float32, name=None))>"
      ]
     },
     "execution_count": 5,
     "metadata": {},
     "output_type": "execute_result"
    }
   ],
   "source": [
    "validation_set"
   ]
  },
  {
   "cell_type": "code",
   "execution_count": 6,
   "id": "7a81c6f7-122a-4989-b59e-229c3b638574",
   "metadata": {},
   "outputs": [
    {
     "name": "stdout",
     "output_type": "stream",
     "text": [
      "tf.Tensor(\n",
      "[[[[159. 151. 174.]\n",
      "   [151. 143. 166.]\n",
      "   [152. 144. 167.]\n",
      "   ...\n",
      "   [145. 137. 158.]\n",
      "   [144. 136. 157.]\n",
      "   [153. 145. 166.]]\n",
      "\n",
      "  [[178. 170. 193.]\n",
      "   [170. 162. 185.]\n",
      "   [170. 162. 185.]\n",
      "   ...\n",
      "   [154. 146. 167.]\n",
      "   [149. 141. 162.]\n",
      "   [175. 167. 188.]]\n",
      "\n",
      "  [[173. 165. 188.]\n",
      "   [165. 157. 180.]\n",
      "   [163. 155. 178.]\n",
      "   ...\n",
      "   [152. 144. 165.]\n",
      "   [134. 126. 147.]\n",
      "   [150. 142. 163.]]\n",
      "\n",
      "  ...\n",
      "\n",
      "  [[108.  97. 114.]\n",
      "   [107.  96. 113.]\n",
      "   [109.  98. 115.]\n",
      "   ...\n",
      "   [ 96.  85. 101.]\n",
      "   [100.  89. 105.]\n",
      "   [106.  95. 111.]]\n",
      "\n",
      "  [[107.  96. 113.]\n",
      "   [108.  97. 114.]\n",
      "   [113. 102. 119.]\n",
      "   ...\n",
      "   [ 97.  86. 102.]\n",
      "   [ 86.  75.  91.]\n",
      "   [ 80.  69.  85.]]\n",
      "\n",
      "  [[110.  99. 116.]\n",
      "   [115. 104. 121.]\n",
      "   [123. 112. 129.]\n",
      "   ...\n",
      "   [100.  89. 105.]\n",
      "   [ 93.  82.  98.]\n",
      "   [ 88.  77.  93.]]]\n",
      "\n",
      "\n",
      " [[[165. 154. 152.]\n",
      "   [168. 157. 155.]\n",
      "   [149. 138. 136.]\n",
      "   ...\n",
      "   [141. 127. 124.]\n",
      "   [154. 140. 137.]\n",
      "   [143. 129. 126.]]\n",
      "\n",
      "  [[165. 154. 152.]\n",
      "   [163. 152. 150.]\n",
      "   [152. 141. 139.]\n",
      "   ...\n",
      "   [128. 114. 111.]\n",
      "   [150. 136. 133.]\n",
      "   [151. 137. 134.]]\n",
      "\n",
      "  [[170. 159. 157.]\n",
      "   [161. 150. 148.]\n",
      "   [165. 154. 152.]\n",
      "   ...\n",
      "   [110.  96.  93.]\n",
      "   [114. 100.  97.]\n",
      "   [144. 130. 127.]]\n",
      "\n",
      "  ...\n",
      "\n",
      "  [[164. 151. 145.]\n",
      "   [163. 150. 144.]\n",
      "   [177. 164. 158.]\n",
      "   ...\n",
      "   [159. 146. 138.]\n",
      "   [125. 112. 104.]\n",
      "   [146. 133. 125.]]\n",
      "\n",
      "  [[157. 144. 138.]\n",
      "   [156. 143. 137.]\n",
      "   [171. 158. 152.]\n",
      "   ...\n",
      "   [126. 113. 105.]\n",
      "   [125. 112. 104.]\n",
      "   [132. 119. 111.]]\n",
      "\n",
      "  [[162. 149. 143.]\n",
      "   [158. 145. 139.]\n",
      "   [170. 157. 151.]\n",
      "   ...\n",
      "   [137. 124. 116.]\n",
      "   [132. 119. 111.]\n",
      "   [139. 126. 118.]]]\n",
      "\n",
      "\n",
      " [[[170. 160. 158.]\n",
      "   [157. 147. 145.]\n",
      "   [175. 165. 163.]\n",
      "   ...\n",
      "   [187. 179. 177.]\n",
      "   [203. 195. 193.]\n",
      "   [170. 162. 160.]]\n",
      "\n",
      "  [[169. 159. 157.]\n",
      "   [160. 150. 148.]\n",
      "   [171. 161. 159.]\n",
      "   ...\n",
      "   [187. 179. 177.]\n",
      "   [189. 181. 179.]\n",
      "   [180. 172. 170.]]\n",
      "\n",
      "  [[159. 149. 147.]\n",
      "   [179. 169. 167.]\n",
      "   [163. 153. 151.]\n",
      "   ...\n",
      "   [180. 172. 170.]\n",
      "   [169. 161. 159.]\n",
      "   [183. 175. 173.]]\n",
      "\n",
      "  ...\n",
      "\n",
      "  [[182. 171. 169.]\n",
      "   [162. 151. 149.]\n",
      "   [167. 156. 154.]\n",
      "   ...\n",
      "   [181. 173. 170.]\n",
      "   [166. 158. 155.]\n",
      "   [156. 148. 145.]]\n",
      "\n",
      "  [[162. 151. 149.]\n",
      "   [154. 143. 141.]\n",
      "   [165. 154. 152.]\n",
      "   ...\n",
      "   [178. 170. 167.]\n",
      "   [148. 140. 137.]\n",
      "   [138. 130. 127.]]\n",
      "\n",
      "  [[153. 142. 140.]\n",
      "   [162. 151. 149.]\n",
      "   [148. 137. 135.]\n",
      "   ...\n",
      "   [162. 154. 151.]\n",
      "   [141. 133. 130.]\n",
      "   [150. 142. 139.]]]\n",
      "\n",
      "\n",
      " ...\n",
      "\n",
      "\n",
      " [[[192. 181. 187.]\n",
      "   [169. 158. 164.]\n",
      "   [203. 192. 198.]\n",
      "   ...\n",
      "   [175. 165. 173.]\n",
      "   [187. 177. 185.]\n",
      "   [173. 163. 171.]]\n",
      "\n",
      "  [[161. 150. 156.]\n",
      "   [160. 149. 155.]\n",
      "   [169. 158. 164.]\n",
      "   ...\n",
      "   [159. 149. 157.]\n",
      "   [184. 174. 182.]\n",
      "   [191. 181. 189.]]\n",
      "\n",
      "  [[175. 164. 170.]\n",
      "   [195. 184. 190.]\n",
      "   [170. 159. 165.]\n",
      "   ...\n",
      "   [174. 164. 172.]\n",
      "   [184. 174. 182.]\n",
      "   [166. 156. 164.]]\n",
      "\n",
      "  ...\n",
      "\n",
      "  [[136. 116. 125.]\n",
      "   [138. 118. 127.]\n",
      "   [128. 108. 117.]\n",
      "   ...\n",
      "   [136. 120. 130.]\n",
      "   [122. 106. 116.]\n",
      "   [114.  98. 108.]]\n",
      "\n",
      "  [[141. 121. 130.]\n",
      "   [147. 127. 136.]\n",
      "   [128. 108. 117.]\n",
      "   ...\n",
      "   [136. 120. 130.]\n",
      "   [144. 128. 138.]\n",
      "   [120. 104. 114.]]\n",
      "\n",
      "  [[139. 119. 128.]\n",
      "   [130. 110. 119.]\n",
      "   [112.  92. 101.]\n",
      "   ...\n",
      "   [100.  84.  94.]\n",
      "   [127. 111. 121.]\n",
      "   [100.  84.  94.]]]\n",
      "\n",
      "\n",
      " [[[160. 152. 149.]\n",
      "   [151. 143. 140.]\n",
      "   [153. 145. 142.]\n",
      "   ...\n",
      "   [156. 148. 145.]\n",
      "   [156. 148. 145.]\n",
      "   [156. 148. 145.]]\n",
      "\n",
      "  [[157. 149. 146.]\n",
      "   [153. 145. 142.]\n",
      "   [156. 148. 145.]\n",
      "   ...\n",
      "   [160. 152. 149.]\n",
      "   [160. 152. 149.]\n",
      "   [160. 152. 149.]]\n",
      "\n",
      "  [[163. 155. 152.]\n",
      "   [165. 157. 154.]\n",
      "   [166. 158. 155.]\n",
      "   ...\n",
      "   [154. 146. 143.]\n",
      "   [151. 143. 140.]\n",
      "   [150. 142. 139.]]\n",
      "\n",
      "  ...\n",
      "\n",
      "  [[109.  95.  92.]\n",
      "   [107.  93.  90.]\n",
      "   [108.  94.  91.]\n",
      "   ...\n",
      "   [135. 124. 120.]\n",
      "   [125. 114. 110.]\n",
      "   [ 97.  86.  82.]]\n",
      "\n",
      "  [[113.  99.  96.]\n",
      "   [109.  95.  92.]\n",
      "   [108.  94.  91.]\n",
      "   ...\n",
      "   [122. 111. 107.]\n",
      "   [122. 111. 107.]\n",
      "   [ 94.  83.  79.]]\n",
      "\n",
      "  [[110.  96.  93.]\n",
      "   [101.  87.  84.]\n",
      "   [ 96.  82.  79.]\n",
      "   ...\n",
      "   [124. 113. 109.]\n",
      "   [130. 119. 115.]\n",
      "   [123. 112. 108.]]]\n",
      "\n",
      "\n",
      " [[[101.  90.  98.]\n",
      "   [104.  93. 101.]\n",
      "   [ 96.  85.  93.]\n",
      "   ...\n",
      "   [ 92.  81.  87.]\n",
      "   [ 96.  85.  91.]\n",
      "   [ 83.  72.  78.]]\n",
      "\n",
      "  [[ 95.  84.  92.]\n",
      "   [ 96.  85.  93.]\n",
      "   [ 93.  82.  90.]\n",
      "   ...\n",
      "   [ 94.  83.  89.]\n",
      "   [100.  89.  95.]\n",
      "   [101.  90.  96.]]\n",
      "\n",
      "  [[106.  95. 103.]\n",
      "   [ 84.  73.  81.]\n",
      "   [ 95.  84.  92.]\n",
      "   ...\n",
      "   [ 93.  82.  88.]\n",
      "   [ 97.  86.  92.]\n",
      "   [107.  96. 102.]]\n",
      "\n",
      "  ...\n",
      "\n",
      "  [[148. 141. 149.]\n",
      "   [128. 121. 129.]\n",
      "   [136. 129. 137.]\n",
      "   ...\n",
      "   [146. 138. 149.]\n",
      "   [148. 140. 151.]\n",
      "   [152. 144. 155.]]\n",
      "\n",
      "  [[150. 143. 151.]\n",
      "   [150. 143. 151.]\n",
      "   [146. 139. 147.]\n",
      "   ...\n",
      "   [154. 146. 157.]\n",
      "   [164. 156. 167.]\n",
      "   [172. 164. 175.]]\n",
      "\n",
      "  [[140. 133. 141.]\n",
      "   [165. 158. 166.]\n",
      "   [143. 136. 144.]\n",
      "   ...\n",
      "   [146. 138. 149.]\n",
      "   [151. 143. 154.]\n",
      "   [156. 148. 159.]]]], shape=(32, 256, 256, 3), dtype=float32) (32, 256, 256, 3)\n",
      "tf.Tensor(\n",
      "[[0. 0. 0. 0. 0. 0. 0. 0. 1. 0.]\n",
      " [0. 0. 0. 0. 0. 0. 0. 1. 0. 0.]\n",
      " [0. 0. 0. 1. 0. 0. 0. 0. 0. 0.]\n",
      " [0. 0. 0. 1. 0. 0. 0. 0. 0. 0.]\n",
      " [1. 0. 0. 0. 0. 0. 0. 0. 0. 0.]\n",
      " [0. 0. 0. 0. 0. 0. 0. 0. 1. 0.]\n",
      " [1. 0. 0. 0. 0. 0. 0. 0. 0. 0.]\n",
      " [0. 0. 0. 0. 1. 0. 0. 0. 0. 0.]\n",
      " [1. 0. 0. 0. 0. 0. 0. 0. 0. 0.]\n",
      " [0. 0. 0. 1. 0. 0. 0. 0. 0. 0.]\n",
      " [0. 0. 0. 0. 0. 0. 0. 0. 0. 1.]\n",
      " [0. 0. 0. 0. 0. 1. 0. 0. 0. 0.]\n",
      " [0. 0. 0. 0. 0. 0. 0. 0. 1. 0.]\n",
      " [0. 0. 0. 0. 1. 0. 0. 0. 0. 0.]\n",
      " [0. 0. 0. 0. 0. 0. 0. 1. 0. 0.]\n",
      " [0. 0. 0. 0. 0. 1. 0. 0. 0. 0.]\n",
      " [0. 1. 0. 0. 0. 0. 0. 0. 0. 0.]\n",
      " [0. 0. 0. 0. 0. 0. 0. 1. 0. 0.]\n",
      " [0. 1. 0. 0. 0. 0. 0. 0. 0. 0.]\n",
      " [0. 0. 0. 0. 0. 0. 0. 0. 0. 1.]\n",
      " [0. 0. 0. 0. 0. 0. 0. 0. 1. 0.]\n",
      " [0. 0. 0. 0. 0. 0. 0. 1. 0. 0.]\n",
      " [0. 0. 0. 0. 0. 0. 0. 0. 1. 0.]\n",
      " [0. 0. 0. 0. 0. 0. 0. 0. 1. 0.]\n",
      " [0. 0. 0. 0. 0. 0. 0. 0. 1. 0.]\n",
      " [0. 0. 0. 0. 0. 1. 0. 0. 0. 0.]\n",
      " [0. 1. 0. 0. 0. 0. 0. 0. 0. 0.]\n",
      " [0. 0. 0. 0. 1. 0. 0. 0. 0. 0.]\n",
      " [0. 0. 0. 0. 0. 1. 0. 0. 0. 0.]\n",
      " [0. 1. 0. 0. 0. 0. 0. 0. 0. 0.]\n",
      " [1. 0. 0. 0. 0. 0. 0. 0. 0. 0.]\n",
      " [0. 0. 0. 0. 0. 1. 0. 0. 0. 0.]], shape=(32, 10), dtype=float32) (32, 10)\n"
     ]
    }
   ],
   "source": [
    "for x,y in validation_set:\n",
    "    print(x,x.shape)\n",
    "    print(y,y.shape)\n",
    "    break"
   ]
  },
  {
   "cell_type": "markdown",
   "id": "a70485fd-1ba5-4a18-b493-1eedf630e308",
   "metadata": {},
   "source": [
    "# building model"
   ]
  },
  {
   "cell_type": "code",
   "execution_count": 8,
   "id": "999d5415-d54b-4f70-b226-b16bfae2a8a9",
   "metadata": {},
   "outputs": [],
   "source": [
    "cnn = tf.keras.models.Sequential()"
   ]
  },
  {
   "cell_type": "code",
   "execution_count": null,
   "id": "aa0d451f-dc80-4581-a697-e170b2e6b80e",
   "metadata": {},
   "outputs": [],
   "source": []
  },
  {
   "cell_type": "markdown",
   "id": "99b96526-1a4e-4150-972d-f835eb4deaa5",
   "metadata": {},
   "source": [
    "# Building Convolution layer"
   ]
  },
  {
   "cell_type": "code",
   "execution_count": 10,
   "id": "e53123fc-be6b-4784-ad80-b7650af3f73d",
   "metadata": {},
   "outputs": [],
   "source": [
    "cnn.add(tf.keras.layers.Conv2D(filters=32,kernel_size=3,padding='same',activation='relu',input_shape=[256,256,3]))\n",
    "cnn.add(tf.keras.layers.Conv2D(filters=32,kernel_size=3,activation='relu'))\n",
    "cnn.add(tf.keras.layers.MaxPool2D(pool_size=2,strides=2))\n"
   ]
  },
  {
   "cell_type": "code",
   "execution_count": 11,
   "id": "442a7bb7-0ef7-4ad1-926b-7ce7892cce05",
   "metadata": {},
   "outputs": [],
   "source": [
    "cnn.add(tf.keras.layers.Conv2D(filters=64,kernel_size=3,padding='same',activation='relu'))\n",
    "cnn.add(tf.keras.layers.Conv2D(filters=64,kernel_size=3,activation='relu'))\n",
    "cnn.add(tf.keras.layers.MaxPool2D(pool_size=2,strides=2))"
   ]
  },
  {
   "cell_type": "code",
   "execution_count": 12,
   "id": "b2426cf1-391c-4e5e-aeca-1efd8120f643",
   "metadata": {},
   "outputs": [],
   "source": [
    "cnn.add(tf.keras.layers.Conv2D(filters=128,kernel_size=3,padding='same',activation='relu'))\n",
    "cnn.add(tf.keras.layers.Conv2D(filters=128,kernel_size=3,activation='relu'))\n",
    "cnn.add(tf.keras.layers.MaxPool2D(pool_size=2,strides=2))"
   ]
  },
  {
   "cell_type": "code",
   "execution_count": 13,
   "id": "a635643d-7c83-4608-8343-632f254660ef",
   "metadata": {},
   "outputs": [],
   "source": [
    "cnn.add(tf.keras.layers.Conv2D(filters=256,kernel_size=3,padding='same',activation='relu'))\n",
    "cnn.add(tf.keras.layers.Conv2D(filters=256,kernel_size=3,activation='relu'))\n",
    "cnn.add(tf.keras.layers.MaxPool2D(pool_size=2,strides=2))"
   ]
  },
  {
   "cell_type": "code",
   "execution_count": 14,
   "id": "d429c237-19df-4366-863d-e67fd3d3bf17",
   "metadata": {},
   "outputs": [],
   "source": [
    "cnn.add(tf.keras.layers.Conv2D(filters=512,kernel_size=3,padding='same',activation='relu'))\n",
    "cnn.add(tf.keras.layers.Conv2D(filters=512,kernel_size=3,activation='relu'))\n",
    "cnn.add(tf.keras.layers.MaxPool2D(pool_size=2,strides=2))"
   ]
  },
  {
   "cell_type": "code",
   "execution_count": null,
   "id": "41e4c4fb-8b73-48d8-8a71-d3c01c68a2d5",
   "metadata": {},
   "outputs": [],
   "source": []
  },
  {
   "cell_type": "code",
   "execution_count": 15,
   "id": "73b98ced-8c4f-4a7f-8ee1-5bab8914ae59",
   "metadata": {},
   "outputs": [],
   "source": [
    "cnn.add(tf.keras.layers.Dropout(0.25))"
   ]
  },
  {
   "cell_type": "code",
   "execution_count": 16,
   "id": "fbb47a41-f073-430a-8692-c22b2a1b2635",
   "metadata": {},
   "outputs": [],
   "source": [
    "cnn.add(tf.keras.layers.Flatten())"
   ]
  },
  {
   "cell_type": "code",
   "execution_count": 17,
   "id": "d0bafb79-adb1-4c3b-ac0e-0f125bef1fe9",
   "metadata": {},
   "outputs": [],
   "source": [
    "cnn.add(tf.keras.layers.Dense(units=1500,activation='relu'))## by invreasing nuron accuracy increase\n"
   ]
  },
  {
   "cell_type": "code",
   "execution_count": 18,
   "id": "d48df2d5-f593-4626-b356-8d2c6aa00570",
   "metadata": {},
   "outputs": [],
   "source": [
    "cnn.add(tf.keras.layers.Dropout(0.4)) #To avoid overfitting"
   ]
  },
  {
   "cell_type": "code",
   "execution_count": 19,
   "id": "e236f193-4222-4f10-8117-abd859135aa7",
   "metadata": {},
   "outputs": [],
   "source": [
    "#Output Layer\n",
    "cnn.add(tf.keras.layers.Dense(units=10,activation='softmax'))"
   ]
  },
  {
   "cell_type": "code",
   "execution_count": 20,
   "id": "dfa480e9-1ff3-43ff-b7b1-c5ff965975fe",
   "metadata": {},
   "outputs": [],
   "source": [
    "## Compiling Tranining phase\n",
    "cnn.compile(optimizer=tf.compat.v1.keras.optimizers.legacy.Adam(\n",
    "    learning_rate=0.0001),loss='categorical_crossentropy',metrics=['accuracy'])"
   ]
  },
  {
   "cell_type": "code",
   "execution_count": 21,
   "id": "e95d8515-844e-4d4f-bf59-33afb377befb",
   "metadata": {
    "scrolled": true
   },
   "outputs": [
    {
     "name": "stdout",
     "output_type": "stream",
     "text": [
      "Model: \"sequential_1\"\n",
      "_________________________________________________________________\n",
      " Layer (type)                Output Shape              Param #   \n",
      "=================================================================\n",
      " conv2d (Conv2D)             (None, 256, 256, 32)      896       \n",
      "                                                                 \n",
      " conv2d_1 (Conv2D)           (None, 254, 254, 32)      9248      \n",
      "                                                                 \n",
      " max_pooling2d (MaxPooling2  (None, 127, 127, 32)      0         \n",
      " D)                                                              \n",
      "                                                                 \n",
      " conv2d_2 (Conv2D)           (None, 127, 127, 32)      9248      \n",
      "                                                                 \n",
      " conv2d_3 (Conv2D)           (None, 125, 125, 32)      9248      \n",
      "                                                                 \n",
      " max_pooling2d_1 (MaxPoolin  (None, 62, 62, 32)        0         \n",
      " g2D)                                                            \n",
      "                                                                 \n",
      " conv2d_4 (Conv2D)           (None, 62, 62, 64)        18496     \n",
      "                                                                 \n",
      " conv2d_5 (Conv2D)           (None, 60, 60, 64)        36928     \n",
      "                                                                 \n",
      " max_pooling2d_2 (MaxPoolin  (None, 30, 30, 64)        0         \n",
      " g2D)                                                            \n",
      "                                                                 \n",
      " conv2d_6 (Conv2D)           (None, 30, 30, 128)       73856     \n",
      "                                                                 \n",
      " conv2d_7 (Conv2D)           (None, 28, 28, 128)       147584    \n",
      "                                                                 \n",
      " max_pooling2d_3 (MaxPoolin  (None, 14, 14, 128)       0         \n",
      " g2D)                                                            \n",
      "                                                                 \n",
      " conv2d_8 (Conv2D)           (None, 14, 14, 256)       295168    \n",
      "                                                                 \n",
      " conv2d_9 (Conv2D)           (None, 12, 12, 256)       590080    \n",
      "                                                                 \n",
      " max_pooling2d_4 (MaxPoolin  (None, 6, 6, 256)         0         \n",
      " g2D)                                                            \n",
      "                                                                 \n",
      " conv2d_10 (Conv2D)          (None, 6, 6, 512)         1180160   \n",
      "                                                                 \n",
      " conv2d_11 (Conv2D)          (None, 4, 4, 512)         2359808   \n",
      "                                                                 \n",
      " max_pooling2d_5 (MaxPoolin  (None, 2, 2, 512)         0         \n",
      " g2D)                                                            \n",
      "                                                                 \n",
      " dropout (Dropout)           (None, 2, 2, 512)         0         \n",
      "                                                                 \n",
      " flatten (Flatten)           (None, 2048)              0         \n",
      "                                                                 \n",
      " dense (Dense)               (None, 1500)              3073500   \n",
      "                                                                 \n",
      " dropout_1 (Dropout)         (None, 1500)              0         \n",
      "                                                                 \n",
      " dense_1 (Dense)             (None, 10)                15010     \n",
      "                                                                 \n",
      "=================================================================\n",
      "Total params: 7819230 (29.83 MB)\n",
      "Trainable params: 7819230 (29.83 MB)\n",
      "Non-trainable params: 0 (0.00 Byte)\n",
      "_________________________________________________________________\n"
     ]
    }
   ],
   "source": [
    "cnn.summary()"
   ]
  },
  {
   "cell_type": "markdown",
   "id": "21080309-0f8d-47c5-87c5-37fdf1092454",
   "metadata": {},
   "source": [
    "# Traning Model\n"
   ]
  },
  {
   "cell_type": "code",
   "execution_count": 25,
   "id": "68431640-979a-4781-b7bd-e05f153d1128",
   "metadata": {},
   "outputs": [
    {
     "name": "stdout",
     "output_type": "stream",
     "text": [
      "Epoch 1/10\n",
      "11/11 [==============================] - 28s 3s/step - loss: 0.1692 - accuracy: 0.9451 - val_loss: 0.0996 - val_accuracy: 0.9665\n",
      "Epoch 2/10\n",
      "11/11 [==============================] - 28s 3s/step - loss: 0.1196 - accuracy: 0.9726 - val_loss: 0.1598 - val_accuracy: 0.9421\n",
      "Epoch 3/10\n",
      "11/11 [==============================] - 28s 3s/step - loss: 0.1277 - accuracy: 0.9543 - val_loss: 0.0338 - val_accuracy: 0.9878\n",
      "Epoch 4/10\n",
      "11/11 [==============================] - 28s 3s/step - loss: 0.1156 - accuracy: 0.9482 - val_loss: 0.0788 - val_accuracy: 0.9726\n",
      "Epoch 5/10\n",
      "11/11 [==============================] - 28s 3s/step - loss: 0.2597 - accuracy: 0.9085 - val_loss: 0.0287 - val_accuracy: 0.9970\n",
      "Epoch 6/10\n",
      "11/11 [==============================] - 27s 3s/step - loss: 0.1222 - accuracy: 0.9604 - val_loss: 0.0243 - val_accuracy: 1.0000\n",
      "Epoch 7/10\n",
      "11/11 [==============================] - 28s 3s/step - loss: 0.1170 - accuracy: 0.9726 - val_loss: 0.0222 - val_accuracy: 1.0000\n",
      "Epoch 8/10\n",
      "11/11 [==============================] - 27s 3s/step - loss: 0.0844 - accuracy: 0.9665 - val_loss: 0.0105 - val_accuracy: 1.0000\n",
      "Epoch 9/10\n",
      "11/11 [==============================] - 28s 3s/step - loss: 0.0442 - accuracy: 0.9848 - val_loss: 0.0303 - val_accuracy: 0.9939\n",
      "Epoch 10/10\n",
      "11/11 [==============================] - 28s 3s/step - loss: 0.0516 - accuracy: 0.9848 - val_loss: 0.0102 - val_accuracy: 0.9970\n"
     ]
    }
   ],
   "source": [
    "training_history = cnn.fit(x=training_set,validation_data=validation_set,epochs=10)"
   ]
  },
  {
   "cell_type": "markdown",
   "id": "ea15b16f-5aa0-4dcb-a156-11b05f2124f4",
   "metadata": {},
   "source": [
    "# Evaluating Model"
   ]
  },
  {
   "cell_type": "code",
   "execution_count": 26,
   "id": "3e6881df-3c53-4651-9663-7d1104779913",
   "metadata": {},
   "outputs": [
    {
     "name": "stdout",
     "output_type": "stream",
     "text": [
      "11/11 [==============================] - 6s 555ms/step - loss: 0.0102 - accuracy: 0.9970\n",
      "Training accuracy: 0.9969512224197388\n"
     ]
    }
   ],
   "source": [
    "#Training set Accuracy\n",
    "train_loss, train_acc = cnn.evaluate(training_set)\n",
    "print('Training accuracy:', train_acc)"
   ]
  },
  {
   "cell_type": "code",
   "execution_count": 27,
   "id": "1c24f55e-b5ba-42fe-bd21-29b2914630f3",
   "metadata": {},
   "outputs": [
    {
     "name": "stdout",
     "output_type": "stream",
     "text": [
      "11/11 [==============================] - 6s 550ms/step - loss: 0.0102 - accuracy: 0.9970\n",
      "Validation accuracy: 0.9969512224197388\n"
     ]
    }
   ],
   "source": [
    "#Validation set Accuracy\n",
    "val_loss, val_acc = cnn.evaluate(validation_set)\n",
    "print('Validation accuracy:', val_acc)"
   ]
  },
  {
   "cell_type": "markdown",
   "id": "ee4590ec-2e42-46cb-8aab-6b72771118a1",
   "metadata": {},
   "source": [
    "## Saving Model"
   ]
  },
  {
   "cell_type": "code",
   "execution_count": 28,
   "id": "ceccb127-16d1-4ca4-9dee-30b8dbcf9122",
   "metadata": {},
   "outputs": [],
   "source": [
    "cnn.save('trained_plant_disease_model.keras')"
   ]
  },
  {
   "cell_type": "code",
   "execution_count": 29,
   "id": "74299358-01f0-4711-ba6d-bbebd2411bc2",
   "metadata": {},
   "outputs": [
    {
     "data": {
      "text/plain": [
       "{'loss': [0.1691875457763672,\n",
       "  0.1195722296833992,\n",
       "  0.1277039349079132,\n",
       "  0.11555806547403336,\n",
       "  0.2596772015094757,\n",
       "  0.12216484546661377,\n",
       "  0.11700093001127243,\n",
       "  0.0844312384724617,\n",
       "  0.04422270134091377,\n",
       "  0.051624398678541183],\n",
       " 'accuracy': [0.9451219439506531,\n",
       "  0.9725610017776489,\n",
       "  0.9542682766914368,\n",
       "  0.9481707215309143,\n",
       "  0.9085366129875183,\n",
       "  0.9603658318519592,\n",
       "  0.9725610017776489,\n",
       "  0.9664633870124817,\n",
       "  0.9847561120986938,\n",
       "  0.9847561120986938],\n",
       " 'val_loss': [0.09960862249135971,\n",
       "  0.159820556640625,\n",
       "  0.03382153436541557,\n",
       "  0.07884868234395981,\n",
       "  0.02869424596428871,\n",
       "  0.024342764168977737,\n",
       "  0.022215545177459717,\n",
       "  0.010494167916476727,\n",
       "  0.030250415205955505,\n",
       "  0.010156795382499695],\n",
       " 'val_accuracy': [0.9664633870124817,\n",
       "  0.9420731663703918,\n",
       "  0.9878048896789551,\n",
       "  0.9725610017776489,\n",
       "  0.9969512224197388,\n",
       "  1.0,\n",
       "  1.0,\n",
       "  1.0,\n",
       "  0.9939024448394775,\n",
       "  0.9969512224197388]}"
      ]
     },
     "execution_count": 29,
     "metadata": {},
     "output_type": "execute_result"
    }
   ],
   "source": [
    "training_history.history #Return Dictionary of history"
   ]
  },
  {
   "cell_type": "code",
   "execution_count": 30,
   "id": "3df50376-93de-4a44-bc12-0abf2514f360",
   "metadata": {},
   "outputs": [],
   "source": [
    "#Recording History in json\n",
    "import json\n",
    "with open('training_hist.json','w') as f:\n",
    "  json.dump(training_history.history,f)"
   ]
  },
  {
   "cell_type": "code",
   "execution_count": 31,
   "id": "081f760d-243a-41e5-b345-973e3e4e3f29",
   "metadata": {},
   "outputs": [
    {
     "name": "stdout",
     "output_type": "stream",
     "text": [
      "dict_keys(['loss', 'accuracy', 'val_loss', 'val_accuracy'])\n"
     ]
    }
   ],
   "source": [
    "print(training_history.history.keys())"
   ]
  },
  {
   "cell_type": "markdown",
   "id": "38bad0b8-e585-4cac-9348-c3d709cd1a48",
   "metadata": {},
   "source": [
    "# Accuracy Visualization"
   ]
  },
  {
   "cell_type": "code",
   "execution_count": 33,
   "id": "feec6d15-f4dc-41c6-92df-84d0092c49bd",
   "metadata": {},
   "outputs": [
    {
     "data": {
      "image/png": "[encoded data removed]",
      "text/plain": [
       "<Figure size 640x480 with 1 Axes>"
      ]
     },
     "metadata": {},
     "output_type": "display_data"
    }
   ],
   "source": [
    "epochs = [i for i in range(1,11)]\n",
    "plt.plot(epochs,training_history.history['accuracy'],color='red',label='Training Accuracy')\n",
    "plt.plot(epochs,training_history.history['val_accuracy'],color='blue',label='Validation Accuracy')\n",
    "plt.xlabel('No. of Epochs')\n",
    "plt.title('Visualization of Accuracy Result')\n",
    "plt.legend()\n",
    "plt.show()"
   ]
  },
  {
   "cell_type": "markdown",
   "id": "4f87d0f6-7425-4044-a5d8-4573269c52f8",
   "metadata": {},
   "source": [
    "# Some other metrics for model evaluation"
   ]
  },
  {
   "cell_type": "code",
   "execution_count": 34,
   "id": "125d0b24-ab99-4199-a6e0-97aaa2f5e6d7",
   "metadata": {},
   "outputs": [
    {
     "data": {
      "text/plain": [
       "['Tomato___Bacterial_spot',\n",
       " 'Tomato___Early_blight',\n",
       " 'Tomato___Late_blight',\n",
       " 'Tomato___Leaf_Mold',\n",
       " 'Tomato___Septoria_leaf_spot',\n",
       " 'Tomato___Spider_mites Two-spotted_spider_mite',\n",
       " 'Tomato___Target_Spot',\n",
       " 'Tomato___Tomato_Yellow_Leaf_Curl_Virus',\n",
       " 'Tomato___Tomato_mosaic_virus',\n",
       " 'Tomato___healthy']"
      ]
     },
     "execution_count": 34,
     "metadata": {},
     "output_type": "execute_result"
    }
   ],
   "source": [
    "class_name = validation_set.class_names\n",
    "class_name"
   ]
  },
  {
   "cell_type": "code",
   "execution_count": 35,
   "id": "c51bca6c-e230-480b-8607-99d724931ac9",
   "metadata": {},
   "outputs": [
    {
     "name": "stdout",
     "output_type": "stream",
     "text": [
      "Found 328 files belonging to 10 classes.\n"
     ]
    }
   ],
   "source": [
    "test_set = tf.keras.utils.image_dataset_from_directory(\n",
    "    'plantvillage',\n",
    "    labels=\"inferred\",\n",
    "    label_mode=\"categorical\",\n",
    "    class_names=None,\n",
    "    color_mode=\"rgb\",\n",
    "    batch_size=1,\n",
    "    image_size=(256,256),\n",
    "    shuffle=False,\n",
    "    seed=None,\n",
    "    validation_split=None,\n",
    "    subset=None,\n",
    "    interpolation=\"bilinear\",\n",
    "    follow_links=False,\n",
    "    crop_to_aspect_ratio=False\n",
    ")"
   ]
  },
  {
   "cell_type": "markdown",
   "id": "7ebab570-ec0a-42f6-be62-b1c36ee8ea88",
   "metadata": {},
   "source": [
    "## prediction"
   ]
  },
  {
   "cell_type": "code",
   "execution_count": 37,
   "id": "5281fbe3-911f-4987-9a19-0bc0911c9d55",
   "metadata": {},
   "outputs": [
    {
     "name": "stdout",
     "output_type": "stream",
     "text": [
      "328/328 [==============================] - 12s 36ms/step\n"
     ]
    }
   ],
   "source": [
    "y_pred = cnn.predict(test_set)\n",
    "predicted_categories = tf.argmax(y_pred, axis=1)"
   ]
  },
  {
   "cell_type": "code",
   "execution_count": 38,
   "id": "96bc49d3-055d-46a6-aeda-273d4ac13518",
   "metadata": {},
   "outputs": [],
   "source": [
    "true_categories = tf.concat([y for x, y in test_set], axis=0)\n",
    "Y_true = tf.argmax(true_categories, axis=1)"
   ]
  },
  {
   "cell_type": "code",
   "execution_count": 39,
   "id": "7c57fc91-0b71-410f-a0b6-b909ca71f3ec",
   "metadata": {},
   "outputs": [
    {
     "data": {
      "text/plain": [
       "<tf.Tensor: shape=(328,), dtype=int64, numpy=\n",
       "array([0, 0, 0, 0, 0, 0, 0, 0, 0, 0, 0, 0, 0, 0, 0, 0, 0, 0, 0, 0, 0, 0,\n",
       "       0, 0, 0, 0, 0, 0, 0, 0, 0, 0, 0, 0, 0, 0, 0, 0, 0, 0, 0, 0, 0, 0,\n",
       "       0, 1, 1, 1, 1, 1, 1, 1, 1, 1, 1, 1, 1, 1, 1, 1, 1, 1, 1, 1, 1, 1,\n",
       "       1, 1, 1, 1, 1, 1, 1, 1, 1, 1, 2, 2, 2, 2, 2, 2, 2, 2, 2, 2, 2, 2,\n",
       "       2, 2, 2, 2, 2, 2, 2, 2, 2, 2, 2, 2, 2, 2, 3, 3, 3, 3, 3, 3, 3, 3,\n",
       "       3, 3, 3, 3, 3, 3, 3, 3, 3, 3, 3, 3, 3, 3, 3, 3, 3, 3, 3, 3, 3, 3,\n",
       "       3, 3, 3, 4, 4, 4, 4, 4, 4, 4, 4, 4, 4, 4, 4, 4, 4, 4, 4, 4, 4, 4,\n",
       "       4, 4, 4, 4, 4, 4, 4, 4, 4, 4, 4, 4, 4, 5, 5, 5, 5, 5, 5, 5, 5, 5,\n",
       "       5, 5, 5, 5, 5, 5, 5, 5, 5, 5, 5, 5, 5, 5, 5, 5, 5, 5, 5, 5, 5, 5,\n",
       "       5, 6, 6, 6, 6, 6, 6, 6, 6, 6, 6, 6, 6, 6, 6, 6, 6, 6, 6, 6, 6, 6,\n",
       "       6, 6, 6, 6, 6, 6, 6, 6, 6, 6, 7, 7, 7, 7, 7, 7, 7, 7, 7, 7, 7, 7,\n",
       "       7, 7, 7, 7, 7, 7, 7, 7, 7, 7, 7, 7, 7, 7, 7, 7, 7, 7, 7, 7, 8, 8,\n",
       "       8, 8, 8, 8, 8, 8, 8, 8, 8, 8, 8, 8, 8, 8, 8, 8, 8, 8, 8, 8, 8, 8,\n",
       "       8, 8, 8, 8, 8, 8, 8, 8, 8, 8, 8, 8, 8, 9, 9, 9, 9, 9, 9, 9, 9, 9,\n",
       "       9, 9, 9, 9, 9, 9, 9, 9, 9, 9, 9, 9, 9, 9, 9, 9, 9, 9, 9, 9],\n",
       "      dtype=int64)>"
      ]
     },
     "execution_count": 39,
     "metadata": {},
     "output_type": "execute_result"
    }
   ],
   "source": [
    "Y_true # for each 52 files "
   ]
  },
  {
   "cell_type": "code",
   "execution_count": 40,
   "id": "dfc724ce-b325-45e2-b254-7fd89c13ab67",
   "metadata": {},
   "outputs": [
    {
     "data": {
      "text/plain": [
       "<tf.Tensor: shape=(328,), dtype=int64, numpy=\n",
       "array([0, 0, 0, 0, 0, 0, 0, 0, 0, 0, 0, 0, 0, 0, 0, 0, 0, 0, 0, 0, 0, 0,\n",
       "       0, 0, 0, 0, 0, 0, 0, 0, 0, 0, 0, 0, 0, 0, 0, 0, 0, 0, 0, 0, 0, 0,\n",
       "       0, 1, 1, 1, 1, 1, 1, 1, 1, 1, 1, 1, 1, 1, 1, 1, 1, 1, 1, 1, 1, 1,\n",
       "       1, 1, 1, 1, 1, 1, 1, 1, 1, 1, 2, 2, 2, 2, 2, 2, 2, 2, 2, 2, 2, 2,\n",
       "       2, 2, 2, 2, 2, 2, 2, 2, 2, 2, 2, 2, 2, 2, 3, 3, 3, 3, 3, 3, 3, 3,\n",
       "       3, 3, 3, 3, 3, 3, 3, 3, 3, 3, 3, 3, 3, 3, 3, 3, 3, 3, 3, 3, 3, 3,\n",
       "       3, 3, 3, 4, 4, 4, 4, 4, 4, 4, 4, 4, 4, 4, 4, 4, 4, 4, 4, 4, 4, 4,\n",
       "       4, 4, 4, 4, 4, 4, 4, 4, 4, 4, 4, 4, 4, 5, 5, 5, 5, 5, 5, 5, 5, 5,\n",
       "       5, 5, 5, 5, 5, 5, 5, 5, 5, 5, 5, 5, 5, 5, 5, 5, 5, 5, 5, 5, 5, 5,\n",
       "       5, 6, 6, 6, 6, 6, 6, 6, 6, 6, 6, 6, 6, 6, 6, 6, 6, 6, 6, 6, 6, 6,\n",
       "       6, 5, 6, 6, 6, 6, 6, 6, 6, 6, 7, 7, 7, 7, 7, 7, 7, 7, 7, 7, 7, 7,\n",
       "       7, 7, 7, 7, 7, 7, 7, 7, 7, 7, 7, 7, 7, 7, 7, 7, 7, 7, 7, 7, 8, 8,\n",
       "       8, 8, 8, 8, 8, 8, 8, 8, 8, 8, 8, 8, 8, 8, 8, 8, 8, 8, 8, 8, 8, 8,\n",
       "       8, 8, 8, 8, 8, 8, 8, 8, 8, 8, 8, 8, 8, 9, 9, 9, 9, 9, 9, 9, 9, 9,\n",
       "       9, 9, 9, 9, 9, 9, 9, 9, 9, 9, 9, 9, 9, 9, 9, 9, 9, 9, 9, 9],\n",
       "      dtype=int64)>"
      ]
     },
     "execution_count": 40,
     "metadata": {},
     "output_type": "execute_result"
    }
   ],
   "source": [
    "predicted_categories"
   ]
  },
  {
   "cell_type": "code",
   "execution_count": 41,
   "id": "60b0dc3a-d62b-4c50-b5b3-df3d6efe0831",
   "metadata": {},
   "outputs": [
    {
     "name": "stdout",
     "output_type": "stream",
     "text": [
      "[[45  0  0  0  0  0  0  0  0  0]\n",
      " [ 0 31  0  0  0  0  0  0  0  0]\n",
      " [ 0  0 26  0  0  0  0  0  0  0]\n",
      " [ 0  0  0 33  0  0  0  0  0  0]\n",
      " [ 0  0  0  0 32  0  0  0  0  0]\n",
      " [ 0  0  0  0  0 32  0  0  0  0]\n",
      " [ 0  0  0  0  0  1 30  0  0  0]\n",
      " [ 0  0  0  0  0  0  0 32  0  0]\n",
      " [ 0  0  0  0  0  0  0  0 37  0]\n",
      " [ 0  0  0  0  0  0  0  0  0 29]]\n"
     ]
    }
   ],
   "source": [
    "from sklearn.metrics import confusion_matrix,classification_report\n",
    "cm = confusion_matrix(Y_true,predicted_categories)\n",
    "# Precision Recall Fscore\n",
    "print(confusion_matrix(Y_true, predicted_categories))"
   ]
  },
  {
   "cell_type": "markdown",
   "id": "dfc60d6b-8f52-4c02-ad5a-507e5343968b",
   "metadata": {},
   "source": [
    "# Precision Recall Fscore\n"
   ]
  },
  {
   "cell_type": "code",
   "execution_count": 42,
   "id": "09cfea24-7fca-44f2-ad8b-792f1fc829c1",
   "metadata": {},
   "outputs": [
    {
     "name": "stdout",
     "output_type": "stream",
     "text": [
      "                                               precision    recall  f1-score   support\n",
      "\n",
      "                      Tomato___Bacterial_spot       1.00      1.00      1.00        45\n",
      "                        Tomato___Early_blight       1.00      1.00      1.00        31\n",
      "                         Tomato___Late_blight       1.00      1.00      1.00        26\n",
      "                           Tomato___Leaf_Mold       1.00      1.00      1.00        33\n",
      "                  Tomato___Septoria_leaf_spot       1.00      1.00      1.00        32\n",
      "Tomato___Spider_mites Two-spotted_spider_mite       0.97      1.00      0.98        32\n",
      "                         Tomato___Target_Spot       1.00      0.97      0.98        31\n",
      "       Tomato___Tomato_Yellow_Leaf_Curl_Virus       1.00      1.00      1.00        32\n",
      "                 Tomato___Tomato_mosaic_virus       1.00      1.00      1.00        37\n",
      "                             Tomato___healthy       1.00      1.00      1.00        29\n",
      "\n",
      "                                     accuracy                           1.00       328\n",
      "                                    macro avg       1.00      1.00      1.00       328\n",
      "                                 weighted avg       1.00      1.00      1.00       328\n",
      "\n"
     ]
    }
   ],
   "source": [
    "print(classification_report(Y_true,predicted_categories,target_names=class_name))"
   ]
  },
  {
   "cell_type": "markdown",
   "id": "8efece24-2a19-4264-b95b-d53c8aff52a5",
   "metadata": {},
   "source": [
    "# Confusion Matrix Visualization"
   ]
  },
  {
   "cell_type": "code",
   "execution_count": 46,
   "id": "c30b2940-019a-4f42-aa11-b1c1b324a88d",
   "metadata": {},
   "outputs": [
    {
     "data": {
      "image/png": "[encoded data removed]",
      "text/plain": [
       "<Figure size 500x500 with 2 Axes>"
      ]
     },
     "metadata": {},
     "output_type": "display_data"
    }
   ],
   "source": [
    "import seaborn as sns\n",
    "\n",
    "plt.figure(figsize=(5, 5))\n",
    "sns.heatmap(cm,annot=True,annot_kws={\"size\": 10})\n",
    "\n",
    "plt.xlabel('Predicted Class',fontsize = 20)\n",
    "plt.ylabel('Actual Class',fontsize = 20)\n",
    "plt.title('Plant Disease Prediction Confusion Matrix',fontsize = 25)\n",
    "plt.show()"
   ]
  },
  {
   "cell_type": "code",
   "execution_count": null,
   "id": "0eaca35b-3f09-4e50-8626-86300050c1fb",
   "metadata": {},
   "outputs": [],
   "source": []
  }
 ],
 "metadata": {
  "kernelspec": {
   "display_name": "Python 3 (ipykernel)",
   "language": "python",
   "name": "python3"
  },
  "language_info": {
   "codemirror_mode": {
    "name": "ipython",
    "version": 3
   },
   "file_extension": ".py",
   "mimetype": "text/x-python",
   "name": "python",
   "nbconvert_exporter": "python",
   "pygments_lexer": "ipython3",
   "version": "3.9.10"
  }
 },
 "nbformat": 4,
 "nbformat_minor": 5
}
